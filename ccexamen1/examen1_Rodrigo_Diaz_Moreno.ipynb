{
 "cells": [
  {
   "cell_type": "markdown",
   "metadata": {},
   "source": [
    "# Programa 1\n"
   ]
  },
  {
   "cell_type": "code",
   "execution_count": 36,
   "metadata": {},
   "outputs": [
    {
     "name": "stdout",
     "output_type": "stream",
     "text": [
      "r\n",
      "r\n",
      "s\n",
      "r\n",
      "r\n",
      "s\n",
      "r\n",
      "s\n",
      "t\n",
      "s\n",
      "s\n",
      "t\n",
      "t\n",
      "t\n",
      "t\n"
     ]
    }
   ],
   "source": [
    "import multiprocessing\n",
    "class ProcesoHijo(multiprocessing.Process):\n",
    "    \n",
    "    def __init__(self, n, s):\n",
    "        super(ProcesoHijo, self).__init__()\n",
    "        self.n=n\n",
    "        self.s=s\n",
    "        \n",
    "    def programa1(self):\n",
    "        for i in range(self.n):\n",
    "            print(self.s)        \n",
    "        \n",
    "    def run(self):\n",
    "        self.programa1()\n",
    "\n",
    "if __name__==\"__main__\":\n",
    "    child1 = ProcesoHijo(5,\"r\")\n",
    "    child2 = ProcesoHijo(5,\"s\")\n",
    "    child3 = ProcesoHijo(5,\"t\")\n",
    "    \n",
    "    child1.start()\n",
    "    child2.start()\n",
    "    child3.start()\n",
    "    \n",
    "    child1.join()\n",
    "    child2.join()\n",
    "    child3.join()    \n"
   ]
  },
  {
   "cell_type": "markdown",
   "metadata": {},
   "source": [
    "# Programa 2"
   ]
  },
  {
   "cell_type": "code",
   "execution_count": 35,
   "metadata": {},
   "outputs": [
    {
     "name": "stdout",
     "output_type": "stream",
     "text": [
      "r\n",
      "r\n",
      "r\n",
      "r\n",
      "r\n",
      "s\n",
      "s\n",
      "s\n",
      "s\n",
      "s\n",
      "t\n",
      "t\n",
      "t\n",
      "t\n",
      "t\n"
     ]
    }
   ],
   "source": [
    "import multiprocessing\n",
    "class ProcesoHijo(multiprocessing.Process):\n",
    "    \n",
    "    def __init__(self, n, s,cola):\n",
    "        super(ProcesoHijo, self).__init__()\n",
    "        self.n=n\n",
    "        self.s=s\n",
    "        self.cola=cola\n",
    "        \n",
    "    def programa2(self):\n",
    "        for i in range(self.n):\n",
    "            self.cola.put(self.s)\n",
    "         \n",
    "    def run(self):\n",
    "        self.programa2()\n",
    "\n",
    "if __name__==\"__main__\":\n",
    "    cola=multiprocessing.Queue()\n",
    "    child1 = ProcesoHijo(5,\"r\",cola)\n",
    "    child2 = ProcesoHijo(5,\"s\",cola)\n",
    "    child3 = ProcesoHijo(5,\"t\",cola)\n",
    "    \n",
    "    child1.start()\n",
    "    child2.start()\n",
    "    child3.start()\n",
    "    \n",
    "    child1.join()\n",
    "    child2.join()\n",
    "    child3.join()\n",
    "    \n",
    "    while not(cola.empty()):\n",
    "        print(cola.get())\n"
   ]
  },
  {
   "cell_type": "code",
   "execution_count": null,
   "metadata": {},
   "outputs": [],
   "source": []
  }
 ],
 "metadata": {
  "kernelspec": {
   "display_name": "Python 3",
   "language": "python",
   "name": "python3"
  },
  "language_info": {
   "codemirror_mode": {
    "name": "ipython",
    "version": 3
   },
   "file_extension": ".py",
   "mimetype": "text/x-python",
   "name": "python",
   "nbconvert_exporter": "python",
   "pygments_lexer": "ipython3",
   "version": "3.7.3"
  }
 },
 "nbformat": 4,
 "nbformat_minor": 2
}
