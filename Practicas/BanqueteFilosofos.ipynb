{
  "nbformat": 4,
  "nbformat_minor": 0,
  "metadata": {
    "colab": {
      "name": "Filosofos.ipynb",
      "provenance": [],
      "collapsed_sections": []
    },
    "kernelspec": {
      "name": "python3",
      "display_name": "Python 3"
    }
  },
  "cells": [
    {
      "cell_type": "code",
      "metadata": {
        "id": "AXALJ1S0nxvG",
        "colab_type": "code",
        "colab": {}
      },
      "source": [
        "\n"
      ],
      "execution_count": 0,
      "outputs": []
    },
    {
      "cell_type": "code",
      "metadata": {
        "id": "aF6so_qYrEOy",
        "colab_type": "code",
        "outputId": "1154eabf-e922-4895-9c6c-92a0190408e4",
        "colab": {
          "base_uri": "https://localhost:8080/",
          "height": 553
        }
      },
      "source": [
        "import multiprocessing as mp\n",
        "import numpy as np\n",
        "import math\n",
        "\n",
        "\n",
        "class Filosofo(mp.Process):\n",
        "\n",
        "  def __init__ (self, nombre, tenedores,lock):\n",
        "    super(Filosofo,self).__init__()\n",
        "    self.nombre=nombre\n",
        "    #self.hambre=np.random.randint(1,10)\n",
        "    self.hambre=2\n",
        "    self.tenedores=tenedores\n",
        "    self.lock=lock\n",
        "    \n",
        "  def comer(self):\n",
        "    self.hambre -=1\n",
        "    \n",
        "    \n",
        "\n",
        "  def run (self):\n",
        "    while self.hambre>0:\n",
        "      if self.tenedores.value>0:\n",
        "        self.lock.acquire()\n",
        "        print(\"Hay {} tenedores disponibles en la mesa dice el filosofo {}:\".format(self.tenedores.value,self.nombre))\n",
        "        self.tenedores.value -=1\n",
        "        self.comer()\n",
        "        print(\"El filosofo {} tiene hambre de {}, come y ahora su hambre es de {} y quedan {} tenedor\".format\n",
        "              (self.nombre,self.hambre+1,self.hambre, self.tenedores.value))\n",
        "        self.lock.release()\n",
        "        self.lock.acquire()\n",
        "        self.tenedores.value +=1\n",
        "        print(\"El filosofo {} devuelve el tenedor a la mesa ahora hay {} tenedores\".format(self.nombre,self.tenedores.value))\n",
        "        self.lock.release()\n",
        "    \n",
        "        \n",
        "\n",
        "if __name__==\"__main__\":\n",
        "  n_filosofos=5\n",
        "  filosofos=[]\n",
        "  tenedores=mp.Value('i',math.floor(n_filosofos/2))\n",
        "  lock=mp.Lock()\n",
        "  for i in range(n_filosofos):\n",
        "    filosofos.append(Filosofo(i,tenedores,lock))\n",
        "    filosofos[i].start()\n",
        "    \n",
        "  for i in range(n_filosofos):\n",
        "    filosofos[i].join()\n",
        "\n",
        "    \n"
      ],
      "execution_count": 0,
      "outputs": [
        {
          "output_type": "stream",
          "text": [
            "Hay 2 tenedores disponibles en la mesa dice el filosofo 0:\n",
            "El filosofo 0 tiene hambre de 2, come y ahora su hambre es de 1 y quedan 1 tenedor\n",
            "El filosofo 0 devuelve el tenedor a la mesa ahora hay 2 tenedores\n",
            "Hay 2 tenedores disponibles en la mesa dice el filosofo 0:\n",
            "El filosofo 0 tiene hambre de 1, come y ahora su hambre es de 0 y quedan 1 tenedor\n",
            "El filosofo 0 devuelve el tenedor a la mesa ahora hay 2 tenedores\n",
            "Hay 2 tenedores disponibles en la mesa dice el filosofo 2:\n",
            "El filosofo 2 tiene hambre de 2, come y ahora su hambre es de 1 y quedan 1 tenedor\n",
            "El filosofo 2 devuelve el tenedor a la mesa ahora hay 2 tenedores\n",
            "Hay 2 tenedores disponibles en la mesa dice el filosofo 2:\n",
            "El filosofo 2 tiene hambre de 1, come y ahora su hambre es de 0 y quedan 1 tenedor\n",
            "El filosofo 2 devuelve el tenedor a la mesa ahora hay 2 tenedores\n",
            "Hay 2 tenedores disponibles en la mesa dice el filosofo 1:\n",
            "El filosofo 1 tiene hambre de 2, come y ahora su hambre es de 1 y quedan 1 tenedor\n",
            "El filosofo 1 devuelve el tenedor a la mesa ahora hay 2 tenedores\n",
            "Hay 2 tenedores disponibles en la mesa dice el filosofo 3:\n",
            "El filosofo 3 tiene hambre de 2, come y ahora su hambre es de 1 y quedan 1 tenedor\n",
            "El filosofo 3 devuelve el tenedor a la mesa ahora hay 2 tenedores\n",
            "Hay 2 tenedores disponibles en la mesa dice el filosofo 3:\n",
            "El filosofo 3 tiene hambre de 1, come y ahora su hambre es de 0 y quedan 1 tenedor\n",
            "El filosofo 3 devuelve el tenedor a la mesa ahora hay 2 tenedores\n",
            "Hay 2 tenedores disponibles en la mesa dice el filosofo 1:\n",
            "El filosofo 1 tiene hambre de 1, come y ahora su hambre es de 0 y quedan 1 tenedor\n",
            "El filosofo 1 devuelve el tenedor a la mesa ahora hay 2 tenedores\n",
            "Hay 2 tenedores disponibles en la mesa dice el filosofo 4:\n",
            "El filosofo 4 tiene hambre de 2, come y ahora su hambre es de 1 y quedan 1 tenedor\n",
            "El filosofo 4 devuelve el tenedor a la mesa ahora hay 2 tenedores\n",
            "Hay 2 tenedores disponibles en la mesa dice el filosofo 4:\n",
            "El filosofo 4 tiene hambre de 1, come y ahora su hambre es de 0 y quedan 1 tenedor\n",
            "El filosofo 4 devuelve el tenedor a la mesa ahora hay 2 tenedores\n"
          ],
          "name": "stdout"
        }
      ]
    },
    {
      "cell_type": "code",
      "metadata": {
        "id": "jiRkLbGXok7L",
        "colab_type": "code",
        "colab": {}
      },
      "source": [
        ""
      ],
      "execution_count": 0,
      "outputs": []
    }
  ]
}