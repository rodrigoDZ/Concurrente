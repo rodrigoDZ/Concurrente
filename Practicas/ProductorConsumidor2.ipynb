{
  "nbformat": 4,
  "nbformat_minor": 0,
  "metadata": {
    "colab": {
      "name": "ProductorConsumidor2.ipynb",
      "provenance": [],
      "collapsed_sections": []
    },
    "kernelspec": {
      "name": "python3",
      "display_name": "Python 3"
    }
  },
  "cells": [
    {
      "cell_type": "code",
      "metadata": {
        "id": "V3509nqPnK31",
        "colab_type": "code",
        "colab": {}
      },
      "source": [
        "import time\n",
        "import multiprocessing as mp\n",
        "\n",
        "itemCount=0\n",
        "\n",
        "def producer(Buffer,itemCount, desp_Producer,desp_Consumer):\n",
        "  \n",
        "  while(True): \n",
        "    \n",
        "    item=1\n",
        "    if(desp_Producer.value==1):\n",
        "      if(itemCount.value==10):    #Tamaño de mi buffer\n",
        "        desp_Producer.value=0\n",
        "        print(\"Producer duerme\")\n",
        "      print(f\"Item count : {itemCount.value} \")\n",
        "      Buffer.put(item)\n",
        "      \n",
        "      print(f\"Productor creo un item, hay {itemCount.value} items\")\n",
        "      itemCount.value=itemCount.value+1\n",
        "        \n",
        "      \n",
        "      if(itemCount.value >=1):\n",
        "        print(\"Desperte al consumidor\")\n",
        "        desp_Consumer.value=1\n",
        "          \n",
        "def consumer(Buffer,itemCount,desp_Consumer, desp_Producer):\n",
        "  \n",
        "  while(True):\n",
        "    \n",
        "    if(desp_Consumer.value==1):\n",
        "      Buffer.get()\n",
        "      itemCount.value=itemCount.value-1\n",
        "      print(f\"Consumidor agarro un item, hay {itemCount.value} items\")\n",
        "      if(itemCount.value != 9):\n",
        "        desp_Producer.value=1\n",
        "      if(itemCount.value == 1):\n",
        "        desp_Consumer.value=0\n",
        "        print(\"Consumer duerme\")\n",
        "\n",
        "if __name__== \"__main__\":\n",
        "  desp_Consumer=mp.Value(\"i\",0)\n",
        "  desp_Producer=mp.Value(\"i\",1)# tiene que empezar despierto\n",
        "  Buffer=mp.Queue()\n",
        "  itemCount=mp.Value(\"i\",0)\n",
        "  prod=mp.Process(target=producer, args=(Buffer,itemCount,desp_Producer, desp_Consumer))\n",
        "  cons=mp.Process(target=consumer, args=(Buffer,itemCount, desp_Consumer, desp_Producer))\n",
        "  prod.start()\n",
        "  cons.start()\n",
        "  prod.join()\n",
        "  cons.join()"
      ],
      "execution_count": 0,
      "outputs": []
    }
  ]
}